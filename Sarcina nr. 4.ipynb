{
 "cells": [
  {
   "cell_type": "code",
   "execution_count": 37,
   "id": "89791d30",
   "metadata": {},
   "outputs": [],
   "source": [
    "#EXERCIȚIUL 1 \n",
    "# Să citim de la tastatură un text mare:\n",
    "# - inițial întroduceți textul într-o variabilă string;\n",
    "# - eliminați/ștergeți toate semnele de punctuație (ex: ? ! . > < = ' ');\n",
    "# - lista semnelor de punctuație să fie păstrat într-un tuplu."
   ]
  },
  {
   "cell_type": "code",
   "execution_count": 38,
   "id": "3081c829",
   "metadata": {},
   "outputs": [
    {
     "name": "stdout",
     "output_type": "stream",
     "text": [
      "Python este un limbaj de programare popular A fost creat de Guido van Rossum și lansat în 1991 Este folosit pentru \n",
      "         dezvoltare web partea server \n",
      "         dezvoltare de software; \n",
      "         matematică\n",
      "         scripturi de sistem\n"
     ]
    }
   ],
   "source": [
    "# Metoda 1\n",
    "text = '''Python este un limbaj de programare popular. A fost creat de Guido van Rossum și lansat în 1991. Este folosit pentru: \n",
    "        - dezvoltare web (partea server); \n",
    "        - dezvoltare de software; \n",
    "        - matematică,\n",
    "        - scripturi de sistem.'''\n",
    "\n",
    "txt = list (text)\n",
    "semn = ('?', '!', '.', ',', ':', ';', '-', '(', ')')\n",
    "\n",
    "for elem in txt :\n",
    "    if elem in semn :\n",
    "        txt.remove (elem)\n",
    "text_fin = ''.join(txt)\n",
    "print (text_fin)"
   ]
  },
  {
   "cell_type": "code",
   "execution_count": 39,
   "id": "1b293923",
   "metadata": {},
   "outputs": [
    {
     "name": "stdout",
     "output_type": "stream",
     "text": [
      "Python este un limbaj de programare popular A fost creat de Guido van Rossum și lansat în 1991 Este folosit pentru \n",
      "         dezvoltare web partea server \n",
      "         dezvoltare de software \n",
      "         matematică\n",
      "         scripturi de sistem\n"
     ]
    }
   ],
   "source": [
    "# Metoda 2\n",
    "text1 = '''Python este un limbaj de programare popular. A fost creat de Guido van Rossum și lansat în 1991. Este folosit pentru: \n",
    "        - dezvoltare web (partea server); \n",
    "        - dezvoltare de software; \n",
    "        - matematică;\n",
    "        - scripturi de sistem.'''\n",
    "\n",
    "semn1 = ('?', '!', '.', ',', ':', ';', '-', '(', ')')\n",
    "txt1 = list (text1)\n",
    "\n",
    "k = 0\n",
    "for i in range (len(txt1)) :\n",
    "    if txt1[i-k] in semn1 :\n",
    "        del (txt1[i-k])\n",
    "        k = k+1\n",
    "text_fin1 = ''.join(txt1)\n",
    "print (text_fin1)"
   ]
  },
  {
   "cell_type": "code",
   "execution_count": 40,
   "id": "73846d97",
   "metadata": {},
   "outputs": [
    {
     "name": "stdout",
     "output_type": "stream",
     "text": [
      "Python este un limbaj de programare popular A fost creat de Guido van Rossum și lansat în 1991 Este folosit pentru \n",
      "         dezvoltare web partea server \n",
      "         dezvoltare de software \n",
      "         matematică\n",
      "         scripturi de sistem\n"
     ]
    }
   ],
   "source": [
    "# Metoda 3\n",
    "text2 = '''Python este un limbaj de programare popular. A fost creat de Guido van Rossum și lansat în 1991. Este folosit pentru: \n",
    "        - dezvoltare web (partea server); \n",
    "        - dezvoltare de software; \n",
    "        - matematică;\n",
    "        - scripturi de sistem.'''\n",
    "\n",
    "semn2 = ('?', '!', '.', ',', ':', ';', '-', '(', ')')\n",
    "text3 = ''\n",
    "\n",
    "for elem in text2 :\n",
    "    if elem not in semn2 :\n",
    "        text3=text3+elem\n",
    "print (text3)"
   ]
  },
  {
   "cell_type": "code",
   "execution_count": 41,
   "id": "58f42390",
   "metadata": {},
   "outputs": [
    {
     "name": "stdout",
     "output_type": "stream",
     "text": [
      "Python este un limbaj de programare popular A fost creat de Guido van Rossum și lansat în 1991 Este folosit pentru \n",
      "         dezvoltare web partea server \n",
      "         dezvoltare de software \n",
      "         matematică\n",
      "         scripturi de sistem\n"
     ]
    }
   ],
   "source": [
    "# Metoda 4\n",
    "text4 = '''Python este un limbaj de programare popular. A fost creat de Guido van Rossum și lansat în 1991. Este folosit pentru: \n",
    "        - dezvoltare web (partea server); \n",
    "        - dezvoltare de software; \n",
    "        - matematică;\n",
    "        - scripturi de sistem.'''\n",
    "\n",
    "semn3 = ('?', '!', '.', ',', ':', ';', '-', '(', ')')\n",
    "\n",
    "for elem in text4 :\n",
    "    if elem in semn3 :\n",
    "        text4 = text4.replace (elem,'')\n",
    "print (text4)"
   ]
  },
  {
   "cell_type": "code",
   "execution_count": 42,
   "id": "09aeb923",
   "metadata": {},
   "outputs": [],
   "source": [
    "#EXERCIȚIUL 2\n",
    "# Se dau 2 liste cu numere :\n",
    "# - convertim fiecare lista în mulțime;\n",
    "# - să se determine 2 diferențe dintre mulțimi L1-L2, L2-L1;\n",
    "# - convertirea și afișarea ambelor diferențe sub formă de listă."
   ]
  },
  {
   "cell_type": "code",
   "execution_count": 43,
   "id": "60a7e897",
   "metadata": {},
   "outputs": [
    {
     "name": "stdout",
     "output_type": "stream",
     "text": [
      "Elementele diferite din Lista 1 față de Lista 2: \n",
      " [8, 1, 5]\n",
      "Elementele diferite din Lista 2 față de Lista 1: \n",
      " [2, 3, 6]\n"
     ]
    }
   ],
   "source": [
    "# Crearea a două liste numerice\n",
    "lst1 = [1, 4, 5, 7, 8, 9]\n",
    "lst2 = [2, 3, 4, 6, 7, 9] \n",
    "\n",
    "# Transformarea listelor în mulțimi\n",
    "mlt1 = set(lst1)\n",
    "mlt2 = set(lst2)\n",
    "\n",
    "# Găsirea diferențelor dintre mulțimi prin două metode\n",
    "dif1 = mlt1-mlt2\n",
    "dif2 = mlt2.difference(mlt1)\n",
    "\n",
    "# Transformarea diferențelor găsite din mulțime în liste\n",
    "dif1_lst1 = list (dif1)\n",
    "dif2_lst2 = list (dif2)\n",
    "\n",
    "#Afișarea listelor cu diferențele găsite\n",
    "print(\"Elementele diferite din Lista 1 față de Lista 2: \\n\",dif1_lst1)\n",
    "print(\"Elementele diferite din Lista 2 față de Lista 1: \\n\",dif2_lst2)"
   ]
  },
  {
   "cell_type": "code",
   "execution_count": 44,
   "id": "7a5dc46e",
   "metadata": {},
   "outputs": [],
   "source": [
    "#EXERCIȚIUL 3\n",
    "# Se dau două liste de cuvinte : Lista 1, Lista 2:\n",
    "# - convertim în mulțime\n",
    "# - să se scrie un cod care va găsi elemtentele comune dintre aceste mulțimi"
   ]
  },
  {
   "cell_type": "code",
   "execution_count": 45,
   "id": "e9471fbb",
   "metadata": {},
   "outputs": [
    {
     "name": "stdout",
     "output_type": "stream",
     "text": [
      "Limbajele comune intre FrondEnd si BackEnd a Web Developer-ului sunt:\n",
      " {'HTML', 'CSS', 'JavaScript', 'WordPress'}\n"
     ]
    }
   ],
   "source": [
    "# Crearea e două liste de cuvinte\n",
    "lista_frontend_web_devel = ['HTML', 'CSS', 'JavaScript', 'Bootstrap', 'WordPress', 'SQL', 'NoSQL'] \n",
    "lista_backend_web_devel = ['Python', 'Ruby', 'PHP', 'HTML', 'CSS', 'JavaScript', 'MongoDB/MySQL', 'Git', 'WordPress']\n",
    "\n",
    "# Transformarea listelor în mulțimi\n",
    "multime1 = set(lista_frontend_web_devel)\n",
    "multime2 = set(lista_backend_web_devel)\n",
    "\n",
    "# Cu ajutorul codului, găsirea elementelor comune dintre mulțimi și afișarea lor \n",
    "inter = multime1&multime2\n",
    "print (\"Limbajele comune intre FrondEnd si BackEnd a Web Developer-ului sunt:\\n\",inter)"
   ]
  },
  {
   "cell_type": "code",
   "execution_count": null,
   "id": "cce3465f",
   "metadata": {},
   "outputs": [],
   "source": []
  }
 ],
 "metadata": {
  "kernelspec": {
   "display_name": "Python 3 (ipykernel)",
   "language": "python",
   "name": "python3"
  },
  "language_info": {
   "codemirror_mode": {
    "name": "ipython",
    "version": 3
   },
   "file_extension": ".py",
   "mimetype": "text/x-python",
   "name": "python",
   "nbconvert_exporter": "python",
   "pygments_lexer": "ipython3",
   "version": "3.7.9"
  }
 },
 "nbformat": 4,
 "nbformat_minor": 5
}
