{
 "cells": [
  {
   "cell_type": "code",
   "execution_count": 1,
   "id": "efc1b1a7",
   "metadata": {},
   "outputs": [
    {
     "name": "stdout",
     "output_type": "stream",
     "text": [
      "1 * 1 = 1   1 * 2 = 2   1 * 3 = 3   1 * 4 = 4   1 * 5 = 5   1 * 6 = 6   1 * 7 = 7   1 * 8 = 8   1 * 9 = 9   1 * 10 = 10  \n",
      "2 * 1 = 2   2 * 2 = 4   2 * 3 = 6   2 * 4 = 8   2 * 5 = 10  2 * 6 = 12  2 * 7 = 14  2 * 8 = 16  2 * 9 = 18  2 * 10 = 20  \n",
      "3 * 1 = 3   3 * 2 = 6   3 * 3 = 9   3 * 4 = 12  3 * 5 = 15  3 * 6 = 18  3 * 7 = 21  3 * 8 = 24  3 * 9 = 27  3 * 10 = 30  \n",
      "4 * 1 = 4   4 * 2 = 8   4 * 3 = 12  4 * 4 = 16  4 * 5 = 20  4 * 6 = 24  4 * 7 = 28  4 * 8 = 32  4 * 9 = 36  4 * 10 = 40  \n",
      "5 * 1 = 5   5 * 2 = 10  5 * 3 = 15  5 * 4 = 20  5 * 5 = 25  5 * 6 = 30  5 * 7 = 35  5 * 8 = 40  5 * 9 = 45  5 * 10 = 50  \n",
      "6 * 1 = 6   6 * 2 = 12  6 * 3 = 18  6 * 4 = 24  6 * 5 = 30  6 * 6 = 36  6 * 7 = 42  6 * 8 = 48  6 * 9 = 54  6 * 10 = 60  \n",
      "7 * 1 = 7   7 * 2 = 14  7 * 3 = 21  7 * 4 = 28  7 * 5 = 35  7 * 6 = 42  7 * 7 = 49  7 * 8 = 56  7 * 9 = 63  7 * 10 = 70  \n",
      "8 * 1 = 8   8 * 2 = 16  8 * 3 = 24  8 * 4 = 32  8 * 5 = 40  8 * 6 = 48  8 * 7 = 56  8 * 8 = 64  8 * 9 = 72  8 * 10 = 80  \n",
      "9 * 1 = 9   9 * 2 = 18  9 * 3 = 27  9 * 4 = 36  9 * 5 = 45  9 * 6 = 54  9 * 7 = 63  9 * 8 = 72  9 * 9 = 81  9 * 10 = 90  \n",
      "10 * 1 = 10  10 * 2 = 20  10 * 3 = 30  10 * 4 = 40  10 * 5 = 50  10 * 6 = 60  10 * 7 = 70  10 * 8 = 80  10 * 9 = 90  10 * 10 = 100   \n"
     ]
    }
   ],
   "source": [
    "#PROBLEMA 1.Calcularea și afișarea Tablei Înmulțirii\n",
    "for i in range (1,11):\n",
    "    for j in range (1,11):\n",
    "        n = i * j\n",
    "        k = 0\n",
    "        while n!= 0 :\n",
    "            n = n//10\n",
    "            k = k+1\n",
    "        if k == 2 :\n",
    "            print (i,\"*\",j,\"=\",i*j,\" \",end=\"\")\n",
    "        else :\n",
    "            print (i,\"*\",j,\"=\",i*j,\"  \",end=\"\")\n",
    "    print ()"
   ]
  },
  {
   "cell_type": "code",
   "execution_count": 2,
   "id": "1d8f6d18",
   "metadata": {},
   "outputs": [
    {
     "name": "stdout",
     "output_type": "stream",
     "text": [
      "întrodu un număr: 987456321741258963\n"
     ]
    }
   ],
   "source": [
    "#PROBLEMA 2.Calculați suma numerelor și câte cifre pare găsim\n",
    "n=int(input('întrodu un număr: '))"
   ]
  },
  {
   "cell_type": "code",
   "execution_count": 3,
   "id": "aae2e577",
   "metadata": {},
   "outputs": [
    {
     "name": "stdout",
     "output_type": "stream",
     "text": [
      "Suma cifrelor este 90\n",
      "Sunt 8 cifre pare în număr\n"
     ]
    }
   ],
   "source": [
    "s=0\n",
    "k=0\n",
    "while n!=0 :\n",
    "    r=n % 10\n",
    "    n=n//10\n",
    "    s=s+r\n",
    "    if r%2==0:\n",
    "        k=k+1\n",
    "print(\"Suma cifrelor este\", s)\n",
    "print(\"Sunt\", k, \"cifre pare în număr\")"
   ]
  },
  {
   "cell_type": "code",
   "execution_count": 4,
   "id": "10a16a36",
   "metadata": {},
   "outputs": [
    {
     "name": "stdout",
     "output_type": "stream",
     "text": [
      "Întrodu coordonata lui x: 9\n",
      "Întrodu coordonata lui y: 7\n"
     ]
    }
   ],
   "source": [
    "#PROBLEMA 3. Calcularea cadranului după coordonatele x,y\n",
    "x=int(input('Întrodu coordonata lui x: '))\n",
    "y=int(input('Întrodu coordonata lui y: '))"
   ]
  },
  {
   "cell_type": "code",
   "execution_count": 5,
   "id": "c5f50689",
   "metadata": {},
   "outputs": [
    {
     "name": "stdout",
     "output_type": "stream",
     "text": [
      "Punctul se află în cadranul I\n"
     ]
    }
   ],
   "source": [
    "if(x>0) and (y>0):\n",
    "    print(\"Punctul se află în cadranul I\")\n",
    "elif(x>0) and (y<0):\n",
    "    print(\"Punctul se află în cadranul II\")\n",
    "elif(x<0) and (y<0):\n",
    "    print(\"Punctul se află în cadranul III\")\n",
    "else:\n",
    "    print(\"Punctul se află în cadranul IV\")"
   ]
  },
  {
   "cell_type": "code",
   "execution_count": null,
   "id": "1296f06d",
   "metadata": {},
   "outputs": [],
   "source": []
  }
 ],
 "metadata": {
  "kernelspec": {
   "display_name": "Python 3 (ipykernel)",
   "language": "python",
   "name": "python3"
  },
  "language_info": {
   "codemirror_mode": {
    "name": "ipython",
    "version": 3
   },
   "file_extension": ".py",
   "mimetype": "text/x-python",
   "name": "python",
   "nbconvert_exporter": "python",
   "pygments_lexer": "ipython3",
   "version": "3.7.9"
  }
 },
 "nbformat": 4,
 "nbformat_minor": 5
}
