{
 "cells": [
  {
   "cell_type": "code",
   "execution_count": 2,
   "id": "ac7a70b6",
   "metadata": {},
   "outputs": [],
   "source": [
    "# PROBLEMA 1\n",
    "# Elaborați un algoritm care va determina numărul fiecărei vocale din text :\n",
    "# - rezultatele să fie memorate într-un dicționar ...ex: 'a':5, 'i':12...\n",
    "# - utilizați metoda fromkeys ()\n",
    "# Procesul:\n",
    "# 1. un string în care salvați vocalele ...ex: ??='aeuoi'\n",
    "# 2. alt string în care salvați textul ...ex: text=''' '''\n",
    "# 3. definim o variabilă în care creăm un dicționar cu valori nule:\n",
    "#   - ??? = {}.fromkeys (??,0)\n",
    "#   - pentru vocala ce este in text:\n",
    "#        daca vocala este in ??? :\n",
    "#           ???[vocala] += 1\n",
    "# 4. printați/afișați rezultatul dicționarului."
   ]
  },
  {
   "cell_type": "code",
   "execution_count": 23,
   "id": "5c17bdbd",
   "metadata": {},
   "outputs": [
    {
     "name": "stdout",
     "output_type": "stream",
     "text": [
      "În textul nostru găsim pentru fiecare vocală următoarele valori:\n",
      " {'A': 1, 'a': 15, 'ă': 1, 'â': 0, 'E': 1, 'e': 21, 'u': 6, 'o': 11, 'i': 8, 'î': 1}\n"
     ]
    }
   ],
   "source": [
    "voc = 'A', 'a', 'ă', 'â', 'E', 'e', 'u', 'o', 'i' , 'î';\n",
    "txt = '''Python este un limbaj de programare popular. A fost creat de Guido van Rossum și lansat în 1991. Este folosit pentru: \n",
    "        1. dezvoltare web (partea server); \n",
    "        2.dezvoltare de software; \n",
    "        3. matematică;\n",
    "        4. scripturi de sistem.'''\n",
    "\n",
    "dc = {}\n",
    "dc= {}.fromkeys(voc,0)\n",
    "for voc in txt:\n",
    "    if voc in dc:\n",
    "        dc[voc]+=1\n",
    "print (\"În textul nostru găsim pentru fiecare vocală următoarele valori:\\n\",dc)"
   ]
  },
  {
   "cell_type": "code",
   "execution_count": null,
   "id": "069596a1",
   "metadata": {},
   "outputs": [],
   "source": []
  }
 ],
 "metadata": {
  "kernelspec": {
   "display_name": "Python 3 (ipykernel)",
   "language": "python",
   "name": "python3"
  },
  "language_info": {
   "codemirror_mode": {
    "name": "ipython",
    "version": 3
   },
   "file_extension": ".py",
   "mimetype": "text/x-python",
   "name": "python",
   "nbconvert_exporter": "python",
   "pygments_lexer": "ipython3",
   "version": "3.7.9"
  }
 },
 "nbformat": 4,
 "nbformat_minor": 5
}
