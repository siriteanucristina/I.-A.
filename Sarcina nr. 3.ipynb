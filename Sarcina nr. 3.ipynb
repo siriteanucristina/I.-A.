{
 "cells": [
  {
   "cell_type": "code",
   "execution_count": 3,
   "id": "be419d35",
   "metadata": {},
   "outputs": [],
   "source": [
    "#EXERCIȚIUL 1.Determinați numărul de propoziții într-un text: \n",
    "#dacă sfârșit de propoziție este '.'\n",
    "#dacă sfârșit de propoziție poate fi: '?'; '!'; '.'"
   ]
  },
  {
   "cell_type": "code",
   "execution_count": 4,
   "id": "292363f2",
   "metadata": {},
   "outputs": [
    {
     "name": "stdout",
     "output_type": "stream",
     "text": [
      "Sunt 28 propoziții în textul 'Petrică și lupul- ce se întâmplă dacă minți!' preluată din cartea Povești cu tâlc pentru copii isteți\n"
     ]
    }
   ],
   "source": [
    "carte=\"Povești cu tâlc pentru copii isteți\"\n",
    "titlul = \"'Petrică și lupul- ce se întâmplă dacă minți!'\"\n",
    "text = '''A fost odată un ciobănaș pe nume Petrică. Într-o zi de toamnă, el se gândi să le facă sătenilor o farsă. \n",
    "Așa că se apucă să ţeasă o minciună gogonată, cu atâta măiestrie, că sătenii îl crezură:\n",
    "— În fiecare noapte vine lupul la stână. Și eu strig cât mă ţin puterile după ajutor, dar nu mă aude nimeni! \n",
    "Și mă lupt eu singur cu dihania, de e vai de tinereţile mele! încheie Petrică, teatral.\n",
    "Sătenii îl crezură și se hotărâră să-i sară în ajutor.\n",
    "\n",
    "Și, într-o noapte, numai ce-l aud pe Petrică strigând:\n",
    "— Ajutoor! E lupul la stână! Săriţi!\n",
    "Sătenii, fiind avertizaţi, săriră care mai de care. Când colo, ce să vezi? Petrică râdea de ei cu gura până la urechi:\n",
    "— Ha, ha, ha! Ce farsă v-am făcut!\n",
    "Și sătenii plecară foarte supăraţi la casele lor.\n",
    "\n",
    "Însă, nu peste mult timp, iată că lupul veni de-adevăratelea la stână.\n",
    "— Ajutoor! E lupul la stână! Săriţi! strigă Petrică din nou.\n",
    "Însă degeaba, că nimeni nu l-a mai crezut.\n",
    "Petrică se luptă cu lupul ce se luptă și, văzând că n-are sorţi de izbândă, o rupse la fugă de-i sfârâiau călcâiele.\n",
    "Și uite-așa, Petrică și-a pierdut oile, ba încă puţin a lipsit să fie mâncat și dânsul de lup, dacă nu ar fi rupt-o la fugă.\n",
    "Vorba aceea: „Unde nu-i cap, vai de picioare.”'''\n",
    "\n",
    "count = 0\n",
    "for nr in text :\n",
    "    if (nr == '.') or (nr == ':') or (nr == '!') or (nr == '?') :\n",
    "        count += 1\n",
    "print (\"Sunt\",count, \"propoziții în textul\",titlul,\"preluată din cartea\",carte)"
   ]
  },
  {
   "cell_type": "code",
   "execution_count": 5,
   "id": "6aafdf77",
   "metadata": {},
   "outputs": [
    {
     "name": "stdout",
     "output_type": "stream",
     "text": [
      "Numarul minimal din lista este = 1\n"
     ]
    }
   ],
   "source": [
    "#EXERCIȚIUL 2.Sa modificati algoritmul de determinare a numarului minimal din lista\n",
    "list1 = [12,23,2,43,67,1,2,3]\n",
    "min=list1[0]\n",
    "for a in list1 :\n",
    "    if a<min :\n",
    "        min=a\n",
    "print (\"Numarul minimal din lista este =\",min)"
   ]
  },
  {
   "cell_type": "code",
   "execution_count": 2,
   "id": "dd72664c",
   "metadata": {},
   "outputs": [
    {
     "name": "stdout",
     "output_type": "stream",
     "text": [
      "Introduceti un text: abcd\n",
      "Inversarea textului: dcba\n"
     ]
    }
   ],
   "source": [
    "#EXERCIȚIUL 3. Sa determinati daca stringul este/nu este polindrom (ex. 'abc' == 'cba').\n",
    "#Stringul sa fie introdus/citit de la tastatura\n",
    "#Utilizand 2 metode de inversare a stringurilor\n",
    "s = str(input(\"Introduceti un text: \"))\n",
    "\n",
    "#Metoda 1\n",
    "invtext = ''.join(reversed(s))\n",
    "print (\"Inversarea textului:\",invtext)"
   ]
  },
  {
   "cell_type": "code",
   "execution_count": null,
   "id": "a54e1182",
   "metadata": {},
   "outputs": [],
   "source": []
  }
 ],
 "metadata": {
  "kernelspec": {
   "display_name": "Python 3 (ipykernel)",
   "language": "python",
   "name": "python3"
  },
  "language_info": {
   "codemirror_mode": {
    "name": "ipython",
    "version": 3
   },
   "file_extension": ".py",
   "mimetype": "text/x-python",
   "name": "python",
   "nbconvert_exporter": "python",
   "pygments_lexer": "ipython3",
   "version": "3.7.9"
  }
 },
 "nbformat": 4,
 "nbformat_minor": 5
}
