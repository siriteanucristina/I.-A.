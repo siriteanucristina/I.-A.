{
 "cells": [
  {
   "cell_type": "code",
   "execution_count": 1,
   "id": "c92742bf",
   "metadata": {},
   "outputs": [
    {
     "name": "stdout",
     "output_type": "stream",
     "text": [
      "Valoare pentru a= 1\n",
      "Valoare pentru b= 2\n",
      "Valoare pentru c= 3\n"
     ]
    }
   ],
   "source": [
    "#PROBLEMA 1.Citim date pentru a,b,c si calcularea ecuatiei de gradul 2\n",
    "a= int(input('Valoare pentru a= '))\n",
    "b= int(input('Valoare pentru b= '))\n",
    "c= int(input('Valoare pentru c= '))"
   ]
  },
  {
   "cell_type": "code",
   "execution_count": 2,
   "id": "0e03787a",
   "metadata": {},
   "outputs": [],
   "source": [
    "import math"
   ]
  },
  {
   "cell_type": "code",
   "execution_count": 3,
   "id": "fdfcf5b8",
   "metadata": {},
   "outputs": [
    {
     "name": "stdout",
     "output_type": "stream",
     "text": [
      "-8\n"
     ]
    }
   ],
   "source": [
    "delta=b*b-4*a*c\n",
    "print(delta)"
   ]
  },
  {
   "cell_type": "code",
   "execution_count": 4,
   "id": "dad325ac",
   "metadata": {},
   "outputs": [
    {
     "name": "stdout",
     "output_type": "stream",
     "text": [
      "Aceasta ecuatie nu are nici o solutie\n"
     ]
    }
   ],
   "source": [
    "if delta>0 :\n",
    "    x1=-(b-math.sqrt(delta))/(2*a)\n",
    "    x2=-(b+math.sqrt(delta))/(2*a)\n",
    "    print('Aceasta ecuatie are doua solutii x1=',x1,' ; x2=',x2)\n",
    "elif delta==0 :\n",
    "    x1=x2=-b/(2*a)\n",
    "    print('Aceasta ecuatie are o singura solutie x1=x2= ',x1)\n",
    "else:\n",
    "    print('Aceasta ecuatie nu are nici o solutie')"
   ]
  },
  {
   "cell_type": "code",
   "execution_count": 5,
   "id": "bba85cc0",
   "metadata": {},
   "outputs": [
    {
     "name": "stdout",
     "output_type": "stream",
     "text": [
      "Valoare pentru x1= 5\n",
      "Valoare pentru y1= 4\n",
      "Valoare pentru x2= 6\n",
      "Valoare pentru y2= 7\n"
     ]
    }
   ],
   "source": [
    "#PROBLEMA 2.Distanta dintre doua puncte\n",
    "x1=int(input('Valoare pentru x1= '))\n",
    "y1=int(input('Valoare pentru y1= '))\n",
    "x2=int(input('Valoare pentru x2= '))\n",
    "y2=int(input('Valoare pentru y2= '))"
   ]
  },
  {
   "cell_type": "code",
   "execution_count": 6,
   "id": "b40a0f1b",
   "metadata": {},
   "outputs": [
    {
     "name": "stdout",
     "output_type": "stream",
     "text": [
      "Distanta dintre doua puncte este= 3.1622776601683795\n"
     ]
    }
   ],
   "source": [
    "dpunct=math.sqrt((x1-x2)**2+(y1-y2)**2)\n",
    "print('Distanta dintre doua puncte este=',dpunct)"
   ]
  },
  {
   "cell_type": "code",
   "execution_count": null,
   "id": "bc9417e1",
   "metadata": {},
   "outputs": [],
   "source": []
  }
 ],
 "metadata": {
  "kernelspec": {
   "display_name": "Python 3 (ipykernel)",
   "language": "python",
   "name": "python3"
  },
  "language_info": {
   "codemirror_mode": {
    "name": "ipython",
    "version": 3
   },
   "file_extension": ".py",
   "mimetype": "text/x-python",
   "name": "python",
   "nbconvert_exporter": "python",
   "pygments_lexer": "ipython3",
   "version": "3.7.9"
  }
 },
 "nbformat": 4,
 "nbformat_minor": 5
}
